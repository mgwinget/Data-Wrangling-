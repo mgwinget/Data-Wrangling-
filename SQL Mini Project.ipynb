{
 "cells": [
  {
   "cell_type": "code",
   "execution_count": 1,
   "metadata": {},
   "outputs": [],
   "source": [
    "#SQL Mini Project- SpringBoard"
   ]
  },
  {
   "cell_type": "code",
   "execution_count": 3,
   "metadata": {},
   "outputs": [],
   "source": [
    "#Q1: Some of the facilities charge a fee to members, but some do not.\n",
    "#Please list the names of the facilities that do. \n",
    "\n",
    "SELECT name FROM Facilities\n",
    "WHERE member cost > 0"
   ]
  },
  {
   "cell_type": "code",
   "execution_count": 5,
   "metadata": {},
   "outputs": [],
   "source": [
    "# Q2: How many facilities do not charge a fee to members? \n",
    "\n",
    "SELECT count(*) FROM Facilities WHERE member cost = 0"
   ]
  },
  {
   "cell_type": "code",
   "execution_count": 6,
   "metadata": {},
   "outputs": [],
   "source": [
    "#Q3: How can you produce a list of facilities that charge a fee to members,\n",
    "#where the fee is less than 20% of the facility's monthly maintenance cost?\n",
    "#Return the facid, facility name, member cost, and monthly maintenance of the\n",
    "#facilities in question.\n",
    "\n",
    "SELECT facid, name, membercost, monthlymaintenance \n",
    "FROM Facilities \n",
    "WHERE membercost > 0 AND membercost / monthlymaintenance < 0.2"
   ]
  },
  {
   "cell_type": "code",
   "execution_count": 7,
   "metadata": {},
   "outputs": [],
   "source": [
    "#Q4: How can you retrieve the details of facilities with ID 1 and 5?\n",
    "#Write the query without using the OR operator.\n",
    "\n",
    "SELECT * FROM facilities WHERE facid IN (1, 5);"
   ]
  },
  {
   "cell_type": "code",
   "execution_count": 8,
   "metadata": {},
   "outputs": [],
   "source": [
    "#Q5: How can you produce a list of facilities, with each labelled as\n",
    "#'cheap' or 'expensive', depending on if their monthly maintenance cost is\n",
    "#more than $100? Return the name and monthly maintenance of the facilities\n",
    "#in question. \n",
    "\n",
    "SELECT name, monthlymaintenance, \n",
    "CASE WHEN monthlymaintenance > 100 THEN 'expensive'\n",
    "     ELSE 'cheap' END AS cheap_or_expensive_col\n",
    "FROM Facilities"
   ]
  },
  {
   "cell_type": "code",
   "execution_count": 9,
   "metadata": {},
   "outputs": [],
   "source": [
    "#Q6: You'd like to get the first and last name of the last member(s)\n",
    "#who signed up. Do not use the LIMIT clause for your solution.\n",
    "\n",
    "Select firstname, surname \n",
    "FROM Members \n",
    "WHERE join date = (select MAX(join date) FROM Members)"
   ]
  },
  {
   "cell_type": "code",
   "execution_count": 10,
   "metadata": {},
   "outputs": [],
   "source": [
    "#Q7: How can you produce a list of all members who have used a tennis court?\n",
    "#Include in your output the name of the court, and the name of the member\n",
    "#formatted as a single column. Ensure no duplicate data, and order by\n",
    "#the member name.\n",
    "\n",
    "SELECT DISTINCT \n",
    "    CONCAT(memsDB.firstname, ' ' , memsDB.surname) as member,\n",
    "    facsDB.name as Facility\n",
    "From Members memsDB\n",
    "    Inner Join Bookings booksDB ON booksDB.memid = memsDB.memid\n",
    "    Inner Join Facilities facsDB ON booksDB.facid = facsDB.facid\n",
    "WHERE facsDB.name  LIKE ‘Tennis Court%’\n",
    "Order by member"
   ]
  },
  {
   "cell_type": "code",
   "execution_count": 11,
   "metadata": {},
   "outputs": [],
   "source": [
    "#Q8: How can you produce a list of bookings on the day of 2012-09-14 which\n",
    "#will cost the member (or guest) more than $30? Remember that guests have\n",
    "#different costs to members (the listed costs are per half-hour 'slot'), and\n",
    "#the guest user's ID is always 0. Include in your output the name of the\n",
    "#facility, the name of the member formatted as a single column, and the cost.\n",
    "#Order by descending cost, and do not use any subqueries.\n",
    "\n",
    "SELECT facsDB.name Facility_Name, CONCAT(memsDB.firstname, ' ' , memsDB.surname) as member, \n",
    "CASE \n",
    "    WHEN memsDB.memid = 0 THEN facsDB.guestcost * booksDB.slots \n",
    "    ELSE  facsDB.membercost * booksDB.slots END as Cost\n",
    "FROM Members memsDB\n",
    "    INNER Join Bookings booksDB ON memsDB.memid = booksDB.memid\n",
    "    INNER JOIN Facilities facsDB ON booksDB.facid = facsDB.facid\n",
    "WHERE \n",
    "    booksDB.starttime >='2012-09-14' and \n",
    "    booksDB.starttime < '2012-09-15' and \n",
    "        (memsDB.memid = 0 and booksDB.slots*facsDB.guestcost > 30) or \n",
    "        (memsDB.memid != 0 and booksDB.slots*facsDB.membercost > 30))\n",
    "Order By Cost desc "
   ]
  },
  {
   "cell_type": "code",
   "execution_count": 12,
   "metadata": {},
   "outputs": [],
   "source": [
    "#Q9: This time, produce the same result as in Q8, but using a subquery.\n",
    "\n",
    "SELECT bookings.member, bookings.facility_name, bookings.cost\n",
    "FROM (\n",
    "    SELECT facsDB.name Facility_Name, CONCAT( memsDB.firstname,  ' ', memsDB.surname ) AS member, \n",
    "    CASE \n",
    "        WHEN memsDB.memid =0\n",
    "        THEN facsDB.guestcost * booksDB.slots\n",
    "        ELSE facsDB.membercost * booksDB.slots\n",
    "    END AS Cost\n",
    "    FROM Members memsDB\n",
    "        INNER JOIN Bookings booksDB ON memsDB.memid = booksDB.memid\n",
    "        INNER JOIN Facilities facsDB ON booksDB.facid = facsDB.facid\n",
    "        WHERE booksDB.starttime >=  '2012-09-14'\n",
    "        AND booksDB.starttime <  '2012-09-15'\n",
    "    ) AS bookings\n",
    "WHERE cost >30\n",
    "ORDER BY cost DESC"
   ]
  },
  {
   "cell_type": "code",
   "execution_count": 13,
   "metadata": {},
   "outputs": [],
   "source": [
    "#Q10: Produce a list of facilities with a total revenue less than 1000.\n",
    "#The output of facility name and total revenue, sorted by revenue. Remember\n",
    "#that there's a different cost for guests and members! \n",
    "\n",
    "SELECT facsDB.name, SUM(CASE\n",
    "                        WHEN memid = 0 THEN slots*guestcost\n",
    "                        ELSE slots*membercost END) as revenue\n",
    "FROM Bookings booksDB\n",
    "INNER JOIN Facilities facsDB ON booksDB.facid = facsDB.facid\n",
    "GROUP BY facsDB.name\n",
    "HAVING SUM(CASE\n",
    "            WHEN memid = 0 THEN slots*facsDB.guestcost\n",
    "            ELSE slots*membercost END) < 1000\n",
    "ORDER BY revenue \n"
   ]
  },
  {
   "cell_type": "code",
   "execution_count": null,
   "metadata": {},
   "outputs": [],
   "source": []
  }
 ],
 "metadata": {
  "kernelspec": {
   "display_name": "Python 3",
   "language": "python",
   "name": "python3"
  },
  "language_info": {
   "codemirror_mode": {
    "name": "ipython",
    "version": 3
   },
   "file_extension": ".py",
   "mimetype": "text/x-python",
   "name": "python",
   "nbconvert_exporter": "python",
   "pygments_lexer": "ipython3",
   "version": "3.7.3"
  }
 },
 "nbformat": 4,
 "nbformat_minor": 2
}
