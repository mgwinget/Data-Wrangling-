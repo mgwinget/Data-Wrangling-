{
 "cells": [
  {
   "cell_type": "markdown",
   "metadata": {},
   "source": [
    "This exercise will require you to pull some data from the Qunadl API. Qaundl is currently the most widely used aggregator of financial market data."
   ]
  },
  {
   "cell_type": "markdown",
   "metadata": {},
   "source": [
    "As a first step, you will need to register a free account on the http://www.quandl.com website."
   ]
  },
  {
   "cell_type": "markdown",
   "metadata": {},
   "source": [
    "After you register, you will be provided with a unique API key, that you should store:"
   ]
  },
  {
   "cell_type": "code",
   "execution_count": 2,
   "metadata": {},
   "outputs": [],
   "source": [
    "# Store the API key as a string - according to PEP8, constants are always named in all upper case\n",
    "API_KEY = ''"
   ]
  },
  {
   "cell_type": "markdown",
   "metadata": {},
   "source": [
    "Qaundl has a large number of data sources, but, unfortunately, most of them require a Premium subscription. Still, there are also a good number of free datasets."
   ]
  },
  {
   "cell_type": "markdown",
   "metadata": {},
   "source": [
    "For this mini project, we will focus on equities data from the Frankfurt Stock Exhange (FSE), which is available for free. We'll try and analyze the stock prices of a company called Carl Zeiss Meditec, which manufactures tools for eye examinations, as well as medical lasers for laser eye surgery: https://www.zeiss.com/meditec/int/home.html. The company is listed under the stock ticker AFX_X."
   ]
  },
  {
   "cell_type": "markdown",
   "metadata": {},
   "source": [
    "You can find the detailed Quandl API instructions here: https://docs.quandl.com/docs/time-series"
   ]
  },
  {
   "cell_type": "markdown",
   "metadata": {},
   "source": [
    "While there is a dedicated Python package for connecting to the Quandl API, we would prefer that you use the *requests* package, which can be easily downloaded using *pip* or *conda*. You can find the documentation for the package here: http://docs.python-requests.org/en/master/ "
   ]
  },
  {
   "cell_type": "markdown",
   "metadata": {},
   "source": [
    "Finally, apart from the *requests* package, you are encouraged to not use any third party Python packages, such as *pandas*, and instead focus on what's available in the Python Standard Library (the *collections* module might come in handy: https://pymotw.com/3/collections/ ).\n",
    "Also, since you won't have access to DataFrames, you are encouraged to us Python's native data structures - preferably dictionaries, though some questions can also be answered using lists.\n",
    "You can read more on these data structures here: https://docs.python.org/3/tutorial/datastructures.html"
   ]
  },
  {
   "cell_type": "markdown",
   "metadata": {},
   "source": [
    "Keep in mind that the JSON responses you will be getting from the API map almost one-to-one to Python's dictionaries. Unfortunately, they can be very nested, so make sure you read up on indexing dictionaries in the documentation provided above."
   ]
  },
  {
   "cell_type": "code",
   "execution_count": 26,
   "metadata": {},
   "outputs": [],
   "source": [
    "# First, import the relevant modules\n",
    "import requests \n",
    "import json\n",
    "import pandas as pd"
   ]
  },
  {
   "cell_type": "code",
   "execution_count": 27,
   "metadata": {},
   "outputs": [
    {
     "name": "stdout",
     "output_type": "stream",
     "text": [
      "['2019-05-24', None, 88.85, 87.5, 88.1, None, 143958.0, 12681718.0, None, None, None]\n",
      "['2015-06-15', 21.9, 22.07, 21.75, 22.0, None, 42718.0, 937435.0, None, None, None]\n"
     ]
    }
   ],
   "source": [
    "# Now, call the Quandl API and pull out a small sample of the data (only one day) to get a glimpse of what the data looks like\n",
    "# want to turn this into a json object type \n",
    "url = 'https://www.quandl.com/api/v3/datasets/FSE/AFX_X.json?api_key=-6CzuZZn7cHALUx5Tf65'\n",
    "response = requests.get(url)\n",
    "json_data = response.json()\n",
    "print(json_data['dataset']['data'][1])\n",
    "print(json_data['dataset']['data'][1000])"
   ]
  },
  {
   "cell_type": "code",
   "execution_count": 28,
   "metadata": {},
   "outputs": [
    {
     "data": {
      "text/html": [
       "<div>\n",
       "<style scoped>\n",
       "    .dataframe tbody tr th:only-of-type {\n",
       "        vertical-align: middle;\n",
       "    }\n",
       "\n",
       "    .dataframe tbody tr th {\n",
       "        vertical-align: top;\n",
       "    }\n",
       "\n",
       "    .dataframe thead th {\n",
       "        text-align: right;\n",
       "    }\n",
       "</style>\n",
       "<table border=\"1\" class=\"dataframe\">\n",
       "  <thead>\n",
       "    <tr style=\"text-align: right;\">\n",
       "      <th></th>\n",
       "      <th>Date</th>\n",
       "      <th>Open</th>\n",
       "      <th>High</th>\n",
       "      <th>Low</th>\n",
       "      <th>Close</th>\n",
       "      <th>Change</th>\n",
       "      <th>Traded Volume</th>\n",
       "      <th>Turnover</th>\n",
       "      <th>Last Price of the Day</th>\n",
       "      <th>Daily Traded Units</th>\n",
       "      <th>Daily Turnover</th>\n",
       "    </tr>\n",
       "  </thead>\n",
       "  <tbody>\n",
       "    <tr>\n",
       "      <th>0</th>\n",
       "      <td>2019-05-27</td>\n",
       "      <td>NaN</td>\n",
       "      <td>88.40</td>\n",
       "      <td>87.65</td>\n",
       "      <td>87.85</td>\n",
       "      <td>NaN</td>\n",
       "      <td>85999.0</td>\n",
       "      <td>7560564.0</td>\n",
       "      <td>None</td>\n",
       "      <td>None</td>\n",
       "      <td>NaN</td>\n",
       "    </tr>\n",
       "    <tr>\n",
       "      <th>1</th>\n",
       "      <td>2019-05-24</td>\n",
       "      <td>NaN</td>\n",
       "      <td>88.85</td>\n",
       "      <td>87.50</td>\n",
       "      <td>88.10</td>\n",
       "      <td>NaN</td>\n",
       "      <td>143958.0</td>\n",
       "      <td>12681718.0</td>\n",
       "      <td>None</td>\n",
       "      <td>None</td>\n",
       "      <td>NaN</td>\n",
       "    </tr>\n",
       "    <tr>\n",
       "      <th>2</th>\n",
       "      <td>2019-05-23</td>\n",
       "      <td>NaN</td>\n",
       "      <td>88.50</td>\n",
       "      <td>87.25</td>\n",
       "      <td>88.20</td>\n",
       "      <td>NaN</td>\n",
       "      <td>185157.0</td>\n",
       "      <td>16297127.0</td>\n",
       "      <td>None</td>\n",
       "      <td>None</td>\n",
       "      <td>NaN</td>\n",
       "    </tr>\n",
       "    <tr>\n",
       "      <th>3</th>\n",
       "      <td>2019-05-22</td>\n",
       "      <td>NaN</td>\n",
       "      <td>89.35</td>\n",
       "      <td>87.70</td>\n",
       "      <td>88.85</td>\n",
       "      <td>NaN</td>\n",
       "      <td>171924.0</td>\n",
       "      <td>15233910.0</td>\n",
       "      <td>None</td>\n",
       "      <td>None</td>\n",
       "      <td>NaN</td>\n",
       "    </tr>\n",
       "    <tr>\n",
       "      <th>4</th>\n",
       "      <td>2019-05-21</td>\n",
       "      <td>NaN</td>\n",
       "      <td>89.45</td>\n",
       "      <td>87.70</td>\n",
       "      <td>88.10</td>\n",
       "      <td>NaN</td>\n",
       "      <td>165632.0</td>\n",
       "      <td>14624029.0</td>\n",
       "      <td>None</td>\n",
       "      <td>None</td>\n",
       "      <td>NaN</td>\n",
       "    </tr>\n",
       "    <tr>\n",
       "      <th>5</th>\n",
       "      <td>2019-05-20</td>\n",
       "      <td>NaN</td>\n",
       "      <td>89.85</td>\n",
       "      <td>88.45</td>\n",
       "      <td>88.55</td>\n",
       "      <td>NaN</td>\n",
       "      <td>134676.0</td>\n",
       "      <td>11985496.0</td>\n",
       "      <td>None</td>\n",
       "      <td>None</td>\n",
       "      <td>NaN</td>\n",
       "    </tr>\n",
       "    <tr>\n",
       "      <th>6</th>\n",
       "      <td>2019-05-17</td>\n",
       "      <td>NaN</td>\n",
       "      <td>89.40</td>\n",
       "      <td>88.55</td>\n",
       "      <td>89.25</td>\n",
       "      <td>NaN</td>\n",
       "      <td>117480.0</td>\n",
       "      <td>10466561.0</td>\n",
       "      <td>None</td>\n",
       "      <td>None</td>\n",
       "      <td>NaN</td>\n",
       "    </tr>\n",
       "    <tr>\n",
       "      <th>7</th>\n",
       "      <td>2019-05-16</td>\n",
       "      <td>NaN</td>\n",
       "      <td>89.30</td>\n",
       "      <td>86.50</td>\n",
       "      <td>89.20</td>\n",
       "      <td>NaN</td>\n",
       "      <td>159067.0</td>\n",
       "      <td>14088797.0</td>\n",
       "      <td>None</td>\n",
       "      <td>None</td>\n",
       "      <td>NaN</td>\n",
       "    </tr>\n",
       "    <tr>\n",
       "      <th>8</th>\n",
       "      <td>2019-05-15</td>\n",
       "      <td>NaN</td>\n",
       "      <td>87.35</td>\n",
       "      <td>85.10</td>\n",
       "      <td>86.65</td>\n",
       "      <td>NaN</td>\n",
       "      <td>145855.0</td>\n",
       "      <td>12611298.0</td>\n",
       "      <td>None</td>\n",
       "      <td>None</td>\n",
       "      <td>NaN</td>\n",
       "    </tr>\n",
       "    <tr>\n",
       "      <th>9</th>\n",
       "      <td>2019-05-14</td>\n",
       "      <td>NaN</td>\n",
       "      <td>87.10</td>\n",
       "      <td>83.80</td>\n",
       "      <td>86.00</td>\n",
       "      <td>NaN</td>\n",
       "      <td>297843.0</td>\n",
       "      <td>25587237.0</td>\n",
       "      <td>None</td>\n",
       "      <td>None</td>\n",
       "      <td>NaN</td>\n",
       "    </tr>\n",
       "  </tbody>\n",
       "</table>\n",
       "</div>"
      ],
      "text/plain": [
       "         Date  Open   High    Low  Close  Change  Traded Volume    Turnover  \\\n",
       "0  2019-05-27   NaN  88.40  87.65  87.85     NaN        85999.0   7560564.0   \n",
       "1  2019-05-24   NaN  88.85  87.50  88.10     NaN       143958.0  12681718.0   \n",
       "2  2019-05-23   NaN  88.50  87.25  88.20     NaN       185157.0  16297127.0   \n",
       "3  2019-05-22   NaN  89.35  87.70  88.85     NaN       171924.0  15233910.0   \n",
       "4  2019-05-21   NaN  89.45  87.70  88.10     NaN       165632.0  14624029.0   \n",
       "5  2019-05-20   NaN  89.85  88.45  88.55     NaN       134676.0  11985496.0   \n",
       "6  2019-05-17   NaN  89.40  88.55  89.25     NaN       117480.0  10466561.0   \n",
       "7  2019-05-16   NaN  89.30  86.50  89.20     NaN       159067.0  14088797.0   \n",
       "8  2019-05-15   NaN  87.35  85.10  86.65     NaN       145855.0  12611298.0   \n",
       "9  2019-05-14   NaN  87.10  83.80  86.00     NaN       297843.0  25587237.0   \n",
       "\n",
       "  Last Price of the Day Daily Traded Units  Daily Turnover  \n",
       "0                  None               None             NaN  \n",
       "1                  None               None             NaN  \n",
       "2                  None               None             NaN  \n",
       "3                  None               None             NaN  \n",
       "4                  None               None             NaN  \n",
       "5                  None               None             NaN  \n",
       "6                  None               None             NaN  \n",
       "7                  None               None             NaN  \n",
       "8                  None               None             NaN  \n",
       "9                  None               None             NaN  "
      ]
     },
     "execution_count": 28,
     "metadata": {},
     "output_type": "execute_result"
    }
   ],
   "source": [
    "# Inspect the JSON structure of the object you created, and take note of how nested it is,\n",
    "# as well as the overall structure\n",
    "column_names = json_data['dataset']['column_names']\n",
    "dataset = json_data['dataset']['data']\n",
    "AFX_DataFrame = pd.DataFrame(dataset, columns=column_names)\n",
    "AFX_DataFrame.head(10)"
   ]
  },
  {
   "cell_type": "markdown",
   "metadata": {},
   "source": [
    "These are your tasks for this mini project:\n",
    "\n",
    "1. Collect data from the Franfurt Stock Exchange, for the ticker AFX_X, for the whole year 2017 (keep in mind that the date format is YYYY-MM-DD).\n",
    "2. Convert the returned JSON object into a Python dictionary.\n",
    "3. Calculate what the highest and lowest opening prices were for the stock in this period.\n",
    "4. What was the largest change in any one day (based on High and Low price)?\n",
    "5. What was the largest change between any two days (based on Closing Price)?\n",
    "6. What was the average daily trading volume during this year?\n",
    "7. (Optional) What was the median trading volume during this year. (Note: you may need to implement your own function for calculating the median.)"
   ]
  },
  {
   "cell_type": "code",
   "execution_count": 29,
   "metadata": {},
   "outputs": [
    {
     "data": {
      "text/html": [
       "<div>\n",
       "<style scoped>\n",
       "    .dataframe tbody tr th:only-of-type {\n",
       "        vertical-align: middle;\n",
       "    }\n",
       "\n",
       "    .dataframe tbody tr th {\n",
       "        vertical-align: top;\n",
       "    }\n",
       "\n",
       "    .dataframe thead th {\n",
       "        text-align: right;\n",
       "    }\n",
       "</style>\n",
       "<table border=\"1\" class=\"dataframe\">\n",
       "  <thead>\n",
       "    <tr style=\"text-align: right;\">\n",
       "      <th></th>\n",
       "      <th>Date</th>\n",
       "      <th>Open</th>\n",
       "      <th>High</th>\n",
       "      <th>Low</th>\n",
       "      <th>Close</th>\n",
       "      <th>Change</th>\n",
       "      <th>Traded Volume</th>\n",
       "      <th>Turnover</th>\n",
       "      <th>Last Price of the Day</th>\n",
       "      <th>Daily Traded Units</th>\n",
       "      <th>Daily Turnover</th>\n",
       "    </tr>\n",
       "  </thead>\n",
       "  <tbody>\n",
       "    <tr>\n",
       "      <th>592</th>\n",
       "      <td>2017-01-06</td>\n",
       "      <td>34.91</td>\n",
       "      <td>35.21</td>\n",
       "      <td>34.91</td>\n",
       "      <td>35.04</td>\n",
       "      <td>NaN</td>\n",
       "      <td>27507.0</td>\n",
       "      <td>964046.0</td>\n",
       "      <td>None</td>\n",
       "      <td>None</td>\n",
       "      <td>NaN</td>\n",
       "    </tr>\n",
       "    <tr>\n",
       "      <th>593</th>\n",
       "      <td>2017-01-05</td>\n",
       "      <td>35.02</td>\n",
       "      <td>35.20</td>\n",
       "      <td>34.73</td>\n",
       "      <td>35.06</td>\n",
       "      <td>NaN</td>\n",
       "      <td>48412.0</td>\n",
       "      <td>1692326.0</td>\n",
       "      <td>None</td>\n",
       "      <td>None</td>\n",
       "      <td>NaN</td>\n",
       "    </tr>\n",
       "    <tr>\n",
       "      <th>594</th>\n",
       "      <td>2017-01-04</td>\n",
       "      <td>35.48</td>\n",
       "      <td>35.51</td>\n",
       "      <td>34.75</td>\n",
       "      <td>35.19</td>\n",
       "      <td>NaN</td>\n",
       "      <td>54408.0</td>\n",
       "      <td>1906810.0</td>\n",
       "      <td>None</td>\n",
       "      <td>None</td>\n",
       "      <td>NaN</td>\n",
       "    </tr>\n",
       "    <tr>\n",
       "      <th>595</th>\n",
       "      <td>2017-01-03</td>\n",
       "      <td>35.90</td>\n",
       "      <td>35.93</td>\n",
       "      <td>35.34</td>\n",
       "      <td>35.48</td>\n",
       "      <td>NaN</td>\n",
       "      <td>70618.0</td>\n",
       "      <td>2515473.0</td>\n",
       "      <td>None</td>\n",
       "      <td>None</td>\n",
       "      <td>NaN</td>\n",
       "    </tr>\n",
       "    <tr>\n",
       "      <th>596</th>\n",
       "      <td>2017-01-02</td>\n",
       "      <td>34.99</td>\n",
       "      <td>35.94</td>\n",
       "      <td>34.99</td>\n",
       "      <td>35.80</td>\n",
       "      <td>NaN</td>\n",
       "      <td>44700.0</td>\n",
       "      <td>1590561.0</td>\n",
       "      <td>None</td>\n",
       "      <td>None</td>\n",
       "      <td>NaN</td>\n",
       "    </tr>\n",
       "  </tbody>\n",
       "</table>\n",
       "</div>"
      ],
      "text/plain": [
       "           Date   Open   High    Low  Close  Change  Traded Volume   Turnover  \\\n",
       "592  2017-01-06  34.91  35.21  34.91  35.04     NaN        27507.0   964046.0   \n",
       "593  2017-01-05  35.02  35.20  34.73  35.06     NaN        48412.0  1692326.0   \n",
       "594  2017-01-04  35.48  35.51  34.75  35.19     NaN        54408.0  1906810.0   \n",
       "595  2017-01-03  35.90  35.93  35.34  35.48     NaN        70618.0  2515473.0   \n",
       "596  2017-01-02  34.99  35.94  34.99  35.80     NaN        44700.0  1590561.0   \n",
       "\n",
       "    Last Price of the Day Daily Traded Units  Daily Turnover  \n",
       "592                  None               None             NaN  \n",
       "593                  None               None             NaN  \n",
       "594                  None               None             NaN  \n",
       "595                  None               None             NaN  \n",
       "596                  None               None             NaN  "
      ]
     },
     "execution_count": 29,
     "metadata": {},
     "output_type": "execute_result"
    }
   ],
   "source": [
    "#1: Return all data for the year 2017\n",
    "\n",
    "AFX_2017 = AFX_DataFrame[(AFX_DataFrame['Date'] >='2017-01-01')&(AFX_DataFrame['Date'] <='2017-12-31')]\n",
    "AFX_2017.tail(5)"
   ]
  },
  {
   "cell_type": "code",
   "execution_count": 30,
   "metadata": {},
   "outputs": [
    {
     "data": {
      "text/plain": [
       "dict"
      ]
     },
     "execution_count": 30,
     "metadata": {},
     "output_type": "execute_result"
    }
   ],
   "source": [
    "#2: Convert to a dict -- This was already done above \n",
    "\n",
    "type(json_data)"
   ]
  },
  {
   "cell_type": "code",
   "execution_count": 31,
   "metadata": {},
   "outputs": [
    {
     "name": "stdout",
     "output_type": "stream",
     "text": [
      "The highest opening value in 2017 was: $53.11 and occured on: 2017-12-14\n",
      "The lowest opening value in 2017 was: $34.0 and occured on: 2017-01-24\n"
     ]
    }
   ],
   "source": [
    "#3: Calculate what the highest and lowest opening prices were for the stock in this period (2017)\n",
    "AFX_2017_MaxOpen = AFX_2017['Open'].max()\n",
    "AFX_2017_LowOpen = AFX_2017['Open'].min()\n",
    "MaxOpen_day = AFX_2017[AFX_2017['Open'] == AFX_2017_MaxOpen].Date.item()\n",
    "LowOpen_day = AFX_2017[AFX_2017['Open'] == AFX_2017_LowOpen].Date.item()\n",
    "\n",
    "print('The highest opening value in 2017 was: $' + str(AFX_2017_MaxOpen) + ' and occured on: ' + str(MaxOpen_day))\n",
    "print('The lowest opening value in 2017 was: $' + str(AFX_2017_LowOpen) + ' and occured on: '+ str(LowOpen_day))"
   ]
  },
  {
   "cell_type": "code",
   "execution_count": 46,
   "metadata": {},
   "outputs": [
    {
     "name": "stdout",
     "output_type": "stream",
     "text": [
      "The max difference for one day was: 2.8100000000000023 and occured on: 2017-05-11\n"
     ]
    }
   ],
   "source": [
    "#4: What was the largest change in any one day (based on High and Low price)?\n",
    "pd.options.mode.chained_assignment = None\n",
    "AFX_2017_Diff = AFX_2017\n",
    "AFX_2017_Diff['High_Low_Day_Diff'] = AFX_2017['High'] - AFX_2017['Low']\n",
    "max_diff = AFX_2017_Diff['High_Low_Day_Diff'].max()\n",
    "date = AFX_2017_Diff[AFX_2017_Diff.High_Low_Day_Diff == max_diff].Date.item()\n",
    "\n",
    "print('The max difference for one day was: ' + str(max_diff) + ' and occured on: ' + str(date))"
   ]
  },
  {
   "cell_type": "code",
   "execution_count": 43,
   "metadata": {},
   "outputs": [
    {
     "name": "stdout",
     "output_type": "stream",
     "text": [
      "The largest change between any two days was: 2.559999999999995\n"
     ]
    }
   ],
   "source": [
    "#5: What was the largest change between any two days (based on Closing Price)?\n",
    "AFX_Closing_Prices= list(AFX_2017['Close'])\n",
    "AFX_Closing_Prices_Diff_List = [day2-day1 for day1, day2 in zip(AFX_Closing_Prices[1:], AFX_Closing_Prices[:-1])]\n",
    "AFX_Closing_Prices_Max = max(map(abs, AFX_Closing_Prices_Diff_List))\n",
    "print('The largest change between any two days was: ' + str(AFX_Closing_Prices_Max))"
   ]
  },
  {
   "cell_type": "code",
   "execution_count": 44,
   "metadata": {},
   "outputs": [
    {
     "name": "stdout",
     "output_type": "stream",
     "text": [
      "The average trading volume for 2017 was: 89124.337\n"
     ]
    }
   ],
   "source": [
    "#6: What was the average daily trading volume during this year?\n",
    "avg_volume = AFX_2017['Traded Volume'].sum()/len(AFX_2017['Traded Volume'])\n",
    "\n",
    "print('The average trading volume for 2017 was: ' + str(round(avg_volume,3)))"
   ]
  },
  {
   "cell_type": "code",
   "execution_count": 45,
   "metadata": {},
   "outputs": [
    {
     "name": "stdout",
     "output_type": "stream",
     "text": [
      "The median trading volume during 2017 was:  76286.0\n"
     ]
    }
   ],
   "source": [
    "#7: (Optional) What was the median trading volume during this year.\n",
    "\n",
    "def get_median(volume_data):\n",
    "\n",
    "    sorted_volume_data = sorted(volume_data, reverse= False)\n",
    "    size = len(sorted_volume_data)\n",
    "\n",
    "    if size % 2 == 1:\n",
    "        return sorted_volume_data[size//2]\n",
    "    else:\n",
    "        return sum(sorted_volume_data[size//2-1:size//2+1])/2.0\n",
    "\n",
    "print('The median trading volume during 2017 was: ', get_median(volume_data = AFX_2017['Traded Volume']))"
   ]
  },
  {
   "cell_type": "code",
   "execution_count": null,
   "metadata": {},
   "outputs": [],
   "source": []
  }
 ],
 "metadata": {
  "kernelspec": {
   "display_name": "Python 3",
   "language": "python",
   "name": "python3"
  },
  "language_info": {
   "codemirror_mode": {
    "name": "ipython",
    "version": 3
   },
   "file_extension": ".py",
   "mimetype": "text/x-python",
   "name": "python",
   "nbconvert_exporter": "python",
   "pygments_lexer": "ipython3",
   "version": "3.7.3"
  }
 },
 "nbformat": 4,
 "nbformat_minor": 2
}
